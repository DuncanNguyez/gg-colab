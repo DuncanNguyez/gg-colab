{
  "nbformat": 4,
  "nbformat_minor": 0,
  "metadata": {
    "colab": {
      "provenance": [],
      "toc_visible": true,
      "authorship_tag": "ABX9TyOJQzRPTLF4+9V0I6xj+OI4",
      "include_colab_link": true
    },
    "kernelspec": {
      "name": "python3",
      "display_name": "Python 3"
    },
    "language_info": {
      "name": "python"
    }
  },
  "cells": [
    {
      "cell_type": "markdown",
      "metadata": {
        "id": "view-in-github",
        "colab_type": "text"
      },
      "source": [
        "<a href=\"https://colab.research.google.com/github/DuncanNguyez/gg-colab/blob/main/test.ipynb\" target=\"_parent\"><img src=\"https://colab.research.google.com/assets/colab-badge.svg\" alt=\"Open In Colab\"/></a>"
      ]
    },
    {
      "cell_type": "markdown",
      "source": [],
      "metadata": {
        "id": "d766DwNa6v3v"
      }
    },
    {
      "cell_type": "markdown",
      "source": [
        "# Started\n"
      ],
      "metadata": {
        "id": "bDIhURHo6yBQ"
      }
    },
    {
      "cell_type": "code",
      "source": [
        "print(\"duncan\")"
      ],
      "metadata": {
        "colab": {
          "base_uri": "https://localhost:8080/"
        },
        "id": "3m0QW7h362x7",
        "outputId": "af7d0f92-97be-43b2-91fa-bbd7fed9e401"
      },
      "execution_count": 2,
      "outputs": [
        {
          "output_type": "stream",
          "name": "stdout",
          "text": [
            "duncan\n"
          ]
        }
      ]
    }
  ]
}